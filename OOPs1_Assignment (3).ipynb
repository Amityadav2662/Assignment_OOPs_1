{
 "cells": [
  {
   "cell_type": "code",
   "execution_count": null,
   "id": "5a1aa5e9-fe2a-4442-b2ec-a24101c32884",
   "metadata": {},
   "outputs": [],
   "source": [
    "# Q1. Explain Class and Object with respect to Object-Oriented Programming. Give a suitable example.\n",
    "Ans.\n",
    "1.Class: A class is a instance or template for creating object. It defines a set of attributes (data) and behaviors\n",
    "(methods) that an object of that class will possess.\n",
    "\n",
    "2.Object : Object is a instance of classes. Which means whenever we put the data into variable so this variable \n",
    "is called object.Objects are created from a class, and they encapsulate both data (attributes) and behaviors \n",
    "(methods) defined in the class.\n"
   ]
  },
  {
   "cell_type": "code",
   "execution_count": 7,
   "id": "4bf2c312-834f-4b9f-90f7-7a19de908427",
   "metadata": {},
   "outputs": [
    {
     "name": "stdout",
     "output_type": "stream",
     "text": [
      "Toyota\n",
      "Camry\n",
      "The car is accelerating.\n",
      "The car is braking.\n"
     ]
    }
   ],
   "source": [
    "# Lets consider Example for class and object.\n",
    "class Car:\n",
    "    def __init__(self, make, model, color, year):\n",
    "        self.make = make\n",
    "        self.model = model\n",
    "        self.color = color\n",
    "        self.year = year\n",
    "\n",
    "    def start(self):\n",
    "        print(\"The car has started.\")\n",
    "\n",
    "    def accelerate(self):\n",
    "        print(\"The car is accelerating.\")\n",
    "\n",
    "    def brake(self):\n",
    "        print(\"The car is braking.\")\n",
    "\n",
    "    def stop(self):\n",
    "        print(\"The car has stopped.\")\n",
    "        \n",
    "Car1 = Car(\"Toyota\",\"Camry\",\"Red\",\"2022\")\n",
    "print(Car1.make)\n",
    "print(Car1.model)\n",
    "\n",
    "Car1.accelerate()\n",
    "Car1.brake()"
   ]
  },
  {
   "cell_type": "code",
   "execution_count": null,
   "id": "2fe0cca5-15f2-4c65-a804-c79a1e26d274",
   "metadata": {},
   "outputs": [],
   "source": [
    "# Q2. Name the four pillars of OOPs.\n",
    "Ans.\n",
    "The four pillars of OOPs.\n",
    "1. Inheritance\n",
    "2. Polymorphism\n",
    "3. Encapsulation\n",
    "4. Abstraction"
   ]
  },
  {
   "cell_type": "code",
   "execution_count": null,
   "id": "daf42457-8858-4907-aeda-38c4320b2bb9",
   "metadata": {},
   "outputs": [],
   "source": [
    "# Q3.Explain why the __init__() function is used. Give a suitable example.\n",
    "Ans.\n",
    "The __init__ function is also called constructor.Which is inside the class and it is automatically \n",
    "called when an object is created from a class."
   ]
  },
  {
   "cell_type": "code",
   "execution_count": 9,
   "id": "401cfe49-2683-4e7d-ad88-b12eef51a558",
   "metadata": {},
   "outputs": [
    {
     "name": "stdout",
     "output_type": "stream",
     "text": [
      "Hi, my name is Alice and I'm 25 years old.\n",
      "Hi, my name is Bob and I'm 30 years old.\n"
     ]
    }
   ],
   "source": [
    "class Person:\n",
    "    def __init__(self, name, age):\n",
    "        self.name = name\n",
    "        self.age = age\n",
    "\n",
    "    def introduce(self):\n",
    "        print(\"Hi, my name is {} and I'm {} years old.\".format(self.name,self.age))\n",
    "\n",
    "person1 = Person(\"Alice\", 25)\n",
    "person2 = Person(\"Bob\", 30)\n",
    "\n",
    "person1.introduce()   \n",
    "person2.introduce()   "
   ]
  },
  {
   "cell_type": "code",
   "execution_count": null,
   "id": "cdd4e9d3-c1a1-45f9-99bf-a22f74bf4f95",
   "metadata": {},
   "outputs": [],
   "source": [
    "# Q4.Why self is used in OOPs?\n",
    "Ans.\n",
    "Self is a object. Why I am saying because anyone inside your class can only access the object or \n",
    "even inside the class method and method cannot call each other only object can call but when we \n",
    "have to call one method from another method then we use Self."
   ]
  },
  {
   "cell_type": "code",
   "execution_count": null,
   "id": "da6bc31c-1b51-4dc5-9985-279ad5d09fa3",
   "metadata": {},
   "outputs": [],
   "source": [
    "# Q5.What is inheritance? Give an example for each type of inheritance.\n",
    "Ans.\n",
    "Inheritance: Inheritance is a key concept in object-oriented programming (OOP). It have parent \n",
    "class where the child class access all the data and methods from the parent class.\n",
    "\n",
    "There are several types of inheritance.\n",
    "1. Single Inheritance : Single Inheritance refers to the where child class inherit the data \n",
    "and attributes from parent class.\n",
    "2. Multilevel Inheritance : Multilevel Inheritance refers to the where child class inherit \n",
    "all the parent class. It creates a chain of inheritance where one child class becomes the parent\n",
    "class for another child class.\n",
    "3. Multiple Inheritance : Multiple Inheritance is refers to the where one child class inherit\n",
    "the data and attributes from more than one parent class.\n",
    "4. Hierarichical Inheritance : Herarichical Inheritance is refers to the where more than one \n",
    "child class inherit the data and attribute from one parent class."
   ]
  },
  {
   "cell_type": "code",
   "execution_count": 10,
   "id": "054bdc9e-a306-479c-a1e4-6fbf8fc9976e",
   "metadata": {},
   "outputs": [
    {
     "name": "stdout",
     "output_type": "stream",
     "text": [
      "The animal makes a sound.\n",
      "The dog barks.\n"
     ]
    }
   ],
   "source": [
    "# Now Talk example of inheritance one by one\n",
    "# 1. Single Inheritance\n",
    "class Animal:\n",
    "    def speak(self):\n",
    "        print(\"The animal makes a sound.\")\n",
    "\n",
    "class Dog(Animal):\n",
    "    def bark(self):\n",
    "        print(\"The dog barks.\")\n",
    "\n",
    "dog = Dog()\n",
    "dog.speak()  \n",
    "dog.bark()"
   ]
  },
  {
   "cell_type": "code",
   "execution_count": 13,
   "id": "27683763-f8e2-4582-b49b-a4abc1c43745",
   "metadata": {},
   "outputs": [
    {
     "name": "stdout",
     "output_type": "stream",
     "text": [
      "The animal makes a sound.\n",
      "The dog barks.\n",
      "The cat meow\n"
     ]
    }
   ],
   "source": [
    "# Multilevel Inheritance\n",
    "class Animal:\n",
    "    def speak(self):\n",
    "        print(\"The animal makes a sound.\")\n",
    "        \n",
    "class Cat(Animal):\n",
    "    def meow(self):\n",
    "        print(\"The cat meow\")\n",
    "\n",
    "class Dog(Cat):\n",
    "    def bark(self):\n",
    "        print(\"The dog barks.\")\n",
    "\n",
    "dog = Dog()\n",
    "dog.speak()  \n",
    "dog.bark()\n",
    "dog.meow()"
   ]
  },
  {
   "cell_type": "code",
   "execution_count": 14,
   "id": "5f6ec3bc-85c9-4722-b18b-af30d853f794",
   "metadata": {},
   "outputs": [
    {
     "name": "stdout",
     "output_type": "stream",
     "text": [
      "The animal makes a sound.\n",
      "The dog barks.\n",
      "The cat meow\n"
     ]
    }
   ],
   "source": [
    "# Multiple Inheritance\n",
    "class Animal:\n",
    "    def speak(self):\n",
    "        print(\"The animal makes a sound.\")\n",
    "        \n",
    "class Cat:\n",
    "    def meow(self):\n",
    "        print(\"The cat meow\")\n",
    "\n",
    "class Dog(Animal,Cat):\n",
    "    def bark(self):\n",
    "        print(\"The dog barks.\")\n",
    "\n",
    "dog = Dog()\n",
    "dog.speak()  \n",
    "dog.bark()\n",
    "dog.meow()"
   ]
  },
  {
   "cell_type": "code",
   "execution_count": 18,
   "id": "2be1e44e-b911-41a8-8abd-a185baf0ed29",
   "metadata": {},
   "outputs": [
    {
     "name": "stdout",
     "output_type": "stream",
     "text": [
      "The animal makes a sound.\n",
      "The dog barks.\n",
      "The animal makes a sound.\n",
      "The cat meow\n"
     ]
    }
   ],
   "source": [
    "# Hierarichical Inheritance\n",
    "class Animal:\n",
    "    def speak(self):\n",
    "        print(\"The animal makes a sound.\")\n",
    "        \n",
    "class Cat(Animal):\n",
    "    def meow(self):\n",
    "        print(\"The cat meow\")\n",
    "\n",
    "class Dog(Animal):\n",
    "    def bark(self):\n",
    "        print(\"The dog barks.\")\n",
    "\n",
    "dog = Dog()\n",
    "cat = Cat()\n",
    "dog.speak()  \n",
    "dog.bark()\n",
    "cat.speak()\n",
    "cat.meow()"
   ]
  },
  {
   "cell_type": "code",
   "execution_count": null,
   "id": "394c58f8-6fa6-48ec-83f6-dcfc0bb625cb",
   "metadata": {},
   "outputs": [],
   "source": []
  }
 ],
 "metadata": {
  "kernelspec": {
   "display_name": "Python 3 (ipykernel)",
   "language": "python",
   "name": "python3"
  },
  "language_info": {
   "codemirror_mode": {
    "name": "ipython",
    "version": 3
   },
   "file_extension": ".py",
   "mimetype": "text/x-python",
   "name": "python",
   "nbconvert_exporter": "python",
   "pygments_lexer": "ipython3",
   "version": "3.10.8"
  }
 },
 "nbformat": 4,
 "nbformat_minor": 5
}
